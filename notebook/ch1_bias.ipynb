{
 "cells": [
  {
   "cell_type": "markdown",
   "metadata": {},
   "source": [
    "# メールマーケティングの効果の検証\n",
    "\n",
    "RCTを行ったデータとバイアスのあるデータを集計してグループ間を比較する。"
   ]
  },
  {
   "cell_type": "markdown",
   "metadata": {},
   "source": [
    "## データの準備\n",
    "\n",
    "メールマーケティングの効果をMineThatData E-mail Analytics And Data Mining Challenge datasetというデータセットで分析する。"
   ]
  },
  {
   "cell_type": "code",
   "execution_count": 1,
   "metadata": {},
   "outputs": [
    {
     "name": "stderr",
     "output_type": "stream",
     "text": [
      "Warning message:\n",
      "“package ‘tidyverse’ was built under R version 3.5.2”\n",
      "── \u001b[1mAttaching packages\u001b[22m ─────────────────────────────────────── tidyverse 1.3.0 ──\n",
      "\n",
      "\u001b[32m✔\u001b[39m \u001b[34mggplot2\u001b[39m 3.3.0     \u001b[32m✔\u001b[39m \u001b[34mpurrr  \u001b[39m 0.3.3\n",
      "\u001b[32m✔\u001b[39m \u001b[34mtibble \u001b[39m 2.1.3     \u001b[32m✔\u001b[39m \u001b[34mdplyr  \u001b[39m 0.8.4\n",
      "\u001b[32m✔\u001b[39m \u001b[34mtidyr  \u001b[39m 1.0.2     \u001b[32m✔\u001b[39m \u001b[34mstringr\u001b[39m 1.4.0\n",
      "\u001b[32m✔\u001b[39m \u001b[34mreadr  \u001b[39m 1.3.1     \u001b[32m✔\u001b[39m \u001b[34mforcats\u001b[39m 0.4.0\n",
      "\n",
      "Warning message:\n",
      "“package ‘tibble’ was built under R version 3.5.2”\n",
      "Warning message:\n",
      "“package ‘tidyr’ was built under R version 3.5.2”\n",
      "Warning message:\n",
      "“package ‘purrr’ was built under R version 3.5.2”\n",
      "Warning message:\n",
      "“package ‘dplyr’ was built under R version 3.5.2”\n",
      "Warning message:\n",
      "“package ‘stringr’ was built under R version 3.5.2”\n",
      "Warning message:\n",
      "“package ‘forcats’ was built under R version 3.5.2”\n",
      "── \u001b[1mConflicts\u001b[22m ────────────────────────────────────────── tidyverse_conflicts() ──\n",
      "\u001b[31m✖\u001b[39m \u001b[34mdplyr\u001b[39m::\u001b[32mfilter()\u001b[39m masks \u001b[34mstats\u001b[39m::filter()\n",
      "\u001b[31m✖\u001b[39m \u001b[34mdplyr\u001b[39m::\u001b[32mlag()\u001b[39m    masks \u001b[34mstats\u001b[39m::lag()\n",
      "\n"
     ]
    }
   ],
   "source": [
    "library(\"tidyverse\")"
   ]
  },
  {
   "cell_type": "code",
   "execution_count": 7,
   "metadata": {},
   "outputs": [
    {
     "name": "stderr",
     "output_type": "stream",
     "text": [
      "Parsed with column specification:\n",
      "cols(\n",
      "  recency = \u001b[32mcol_double()\u001b[39m,\n",
      "  history_segment = \u001b[31mcol_character()\u001b[39m,\n",
      "  history = \u001b[32mcol_double()\u001b[39m,\n",
      "  mens = \u001b[32mcol_double()\u001b[39m,\n",
      "  womens = \u001b[32mcol_double()\u001b[39m,\n",
      "  zip_code = \u001b[31mcol_character()\u001b[39m,\n",
      "  newbie = \u001b[32mcol_double()\u001b[39m,\n",
      "  channel = \u001b[31mcol_character()\u001b[39m,\n",
      "  segment = \u001b[31mcol_character()\u001b[39m,\n",
      "  visit = \u001b[32mcol_double()\u001b[39m,\n",
      "  conversion = \u001b[32mcol_double()\u001b[39m,\n",
      "  spend = \u001b[32mcol_double()\u001b[39m\n",
      ")\n",
      "\n"
     ]
    },
    {
     "data": {
      "text/html": [
       "<table>\n",
       "<thead><tr><th scope=col>recency</th><th scope=col>history_segment</th><th scope=col>history</th><th scope=col>mens</th><th scope=col>womens</th><th scope=col>zip_code</th><th scope=col>newbie</th><th scope=col>channel</th><th scope=col>segment</th><th scope=col>visit</th><th scope=col>conversion</th><th scope=col>spend</th></tr></thead>\n",
       "<tbody>\n",
       "\t<tr><td>10            </td><td>2) $100 - $200</td><td>142.44        </td><td>1             </td><td>0             </td><td>Surburban     </td><td>0             </td><td>Phone         </td><td>Womens E-Mail </td><td>0             </td><td>0             </td><td>0             </td></tr>\n",
       "\t<tr><td> 6            </td><td>3) $200 - $350</td><td>329.08        </td><td>1             </td><td>1             </td><td>Rural         </td><td>1             </td><td>Web           </td><td>No E-Mail     </td><td>0             </td><td>0             </td><td>0             </td></tr>\n",
       "\t<tr><td> 7            </td><td>2) $100 - $200</td><td>180.65        </td><td>0             </td><td>1             </td><td>Surburban     </td><td>1             </td><td>Web           </td><td>Womens E-Mail </td><td>0             </td><td>0             </td><td>0             </td></tr>\n",
       "\t<tr><td> 9            </td><td>5) $500 - $750</td><td>675.83        </td><td>1             </td><td>0             </td><td>Rural         </td><td>1             </td><td>Web           </td><td>Mens E-Mail   </td><td>0             </td><td>0             </td><td>0             </td></tr>\n",
       "\t<tr><td> 2            </td><td>1) $0 - $100  </td><td> 45.34        </td><td>1             </td><td>0             </td><td>Urban         </td><td>0             </td><td>Web           </td><td>Womens E-Mail </td><td>0             </td><td>0             </td><td>0             </td></tr>\n",
       "\t<tr><td> 6            </td><td>2) $100 - $200</td><td>134.83        </td><td>0             </td><td>1             </td><td>Surburban     </td><td>0             </td><td>Phone         </td><td>Womens E-Mail </td><td>1             </td><td>0             </td><td>0             </td></tr>\n",
       "</tbody>\n",
       "</table>\n"
      ],
      "text/latex": [
       "\\begin{tabular}{r|llllllllllll}\n",
       " recency & history\\_segment & history & mens & womens & zip\\_code & newbie & channel & segment & visit & conversion & spend\\\\\n",
       "\\hline\n",
       "\t 10                 & 2) \\$100 - \\$200 & 142.44             & 1                  & 0                  & Surburban          & 0                  & Phone              & Womens E-Mail      & 0                  & 0                  & 0                 \\\\\n",
       "\t  6                 & 3) \\$200 - \\$350 & 329.08             & 1                  & 1                  & Rural              & 1                  & Web                & No E-Mail          & 0                  & 0                  & 0                 \\\\\n",
       "\t  7                 & 2) \\$100 - \\$200 & 180.65             & 0                  & 1                  & Surburban          & 1                  & Web                & Womens E-Mail      & 0                  & 0                  & 0                 \\\\\n",
       "\t  9                 & 5) \\$500 - \\$750 & 675.83             & 1                  & 0                  & Rural              & 1                  & Web                & Mens E-Mail        & 0                  & 0                  & 0                 \\\\\n",
       "\t  2                 & 1) \\$0 - \\$100   &  45.34             & 1                  & 0                  & Urban              & 0                  & Web                & Womens E-Mail      & 0                  & 0                  & 0                 \\\\\n",
       "\t  6                 & 2) \\$100 - \\$200 & 134.83             & 0                  & 1                  & Surburban          & 0                  & Phone              & Womens E-Mail      & 1                  & 0                  & 0                 \\\\\n",
       "\\end{tabular}\n"
      ],
      "text/markdown": [
       "\n",
       "recency | history_segment | history | mens | womens | zip_code | newbie | channel | segment | visit | conversion | spend | \n",
       "|---|---|---|---|---|---|\n",
       "| 10             | 2) $100 - $200 | 142.44         | 1              | 0              | Surburban      | 0              | Phone          | Womens E-Mail  | 0              | 0              | 0              | \n",
       "|  6             | 3) $200 - $350 | 329.08         | 1              | 1              | Rural          | 1              | Web            | No E-Mail      | 0              | 0              | 0              | \n",
       "|  7             | 2) $100 - $200 | 180.65         | 0              | 1              | Surburban      | 1              | Web            | Womens E-Mail  | 0              | 0              | 0              | \n",
       "|  9             | 5) $500 - $750 | 675.83         | 1              | 0              | Rural          | 1              | Web            | Mens E-Mail    | 0              | 0              | 0              | \n",
       "|  2             | 1) $0 - $100   |  45.34         | 1              | 0              | Urban          | 0              | Web            | Womens E-Mail  | 0              | 0              | 0              | \n",
       "|  6             | 2) $100 - $200 | 134.83         | 0              | 1              | Surburban      | 0              | Phone          | Womens E-Mail  | 1              | 0              | 0              | \n",
       "\n",
       "\n"
      ],
      "text/plain": [
       "  recency history_segment history mens womens zip_code  newbie channel\n",
       "1 10      2) $100 - $200  142.44  1    0      Surburban 0      Phone  \n",
       "2  6      3) $200 - $350  329.08  1    1      Rural     1      Web    \n",
       "3  7      2) $100 - $200  180.65  0    1      Surburban 1      Web    \n",
       "4  9      5) $500 - $750  675.83  1    0      Rural     1      Web    \n",
       "5  2      1) $0 - $100     45.34  1    0      Urban     0      Web    \n",
       "6  6      2) $100 - $200  134.83  0    1      Surburban 0      Phone  \n",
       "  segment       visit conversion spend\n",
       "1 Womens E-Mail 0     0          0    \n",
       "2 No E-Mail     0     0          0    \n",
       "3 Womens E-Mail 0     0          0    \n",
       "4 Mens E-Mail   0     0          0    \n",
       "5 Womens E-Mail 0     0          0    \n",
       "6 Womens E-Mail 1     0          0    "
      ]
     },
     "metadata": {},
     "output_type": "display_data"
    }
   ],
   "source": [
    "email_data <- read_csv(\"../input/email_data.csv\")\n",
    "head(email_data)"
   ]
  },
  {
   "cell_type": "markdown",
   "metadata": {},
   "source": [
    "## RCTデータの集計と有意差検定"
   ]
  },
  {
   "cell_type": "markdown",
   "metadata": {},
   "source": [
    "男性向けのメールが配信されたサンプルとメールが配信されなかったサンプルに限定して分析を行う。そのために女性向けのメールが配信されたデータを削除する。"
   ]
  },
  {
   "cell_type": "code",
   "execution_count": 4,
   "metadata": {},
   "outputs": [],
   "source": [
    "male_df <- email_data %>%\n",
    "    filter(segment != \"Womens E-Mail\") %>%\n",
    "    mutate(treatment = if_else(segment == \"Mens E-Mail\", 1, 0))"
   ]
  },
  {
   "cell_type": "markdown",
   "metadata": {},
   "source": [
    "### 集計\n",
    "\n",
    "介入の有無で集約統計量の比較を行う。"
   ]
  },
  {
   "cell_type": "code",
   "execution_count": 6,
   "metadata": {},
   "outputs": [
    {
     "data": {
      "text/html": [
       "<table>\n",
       "<thead><tr><th scope=col>treatment</th><th scope=col>conversion_rate</th><th scope=col>spend_mean</th><th scope=col>count</th></tr></thead>\n",
       "<tbody>\n",
       "\t<tr><td>0          </td><td>0.005726087</td><td>0.6527894  </td><td>21306      </td></tr>\n",
       "\t<tr><td>1          </td><td>0.012531093</td><td>1.4226165  </td><td>21307      </td></tr>\n",
       "</tbody>\n",
       "</table>\n"
      ],
      "text/latex": [
       "\\begin{tabular}{r|llll}\n",
       " treatment & conversion\\_rate & spend\\_mean & count\\\\\n",
       "\\hline\n",
       "\t 0           & 0.005726087 & 0.6527894   & 21306      \\\\\n",
       "\t 1           & 0.012531093 & 1.4226165   & 21307      \\\\\n",
       "\\end{tabular}\n"
      ],
      "text/markdown": [
       "\n",
       "treatment | conversion_rate | spend_mean | count | \n",
       "|---|---|\n",
       "| 0           | 0.005726087 | 0.6527894   | 21306       | \n",
       "| 1           | 0.012531093 | 1.4226165   | 21307       | \n",
       "\n",
       "\n"
      ],
      "text/plain": [
       "  treatment conversion_rate spend_mean count\n",
       "1 0         0.005726087     0.6527894  21306\n",
       "2 1         0.012531093     1.4226165  21307"
      ]
     },
     "metadata": {},
     "output_type": "display_data"
    }
   ],
   "source": [
    "summary_by_segment <- male_df %>%\n",
    "    group_by(treatment) %>%\n",
    "    summarise(conversion_rate = mean(conversion),\n",
    "              spend_mean = mean(spend),\n",
    "              count = n())\n",
    "summary_by_segment"
   ]
  },
  {
   "cell_type": "markdown",
   "metadata": {},
   "source": [
    "### 有意差検定\n",
    "\n",
    "メールが配信されたグループとそうでないグループの間で購買金額に有意差があるかを有意差検定によって検証する。"
   ]
  },
  {
   "cell_type": "code",
   "execution_count": 8,
   "metadata": {},
   "outputs": [
    {
     "data": {
      "text/plain": [
       "\n",
       "\tTwo Sample t-test\n",
       "\n",
       "data:  mens_mail and no_mail\n",
       "t = 5.3001, df = 42611, p-value = 1.163e-07\n",
       "alternative hypothesis: true difference in means is not equal to 0\n",
       "95 percent confidence interval:\n",
       " 0.4851384 1.0545160\n",
       "sample estimates:\n",
       "mean of x mean of y \n",
       "1.4226165 0.6527894 \n"
      ]
     },
     "metadata": {},
     "output_type": "display_data"
    }
   ],
   "source": [
    "mens_mail <- male_df %>%\n",
    "    filter(treatment == 1) %>%\n",
    "    pull(spend)\n",
    "\n",
    "no_mail <- male_df %>%\n",
    "    filter(treatment == 0) %>%\n",
    "    pull(spend)\n",
    "\n",
    "rct_ttest = t.test(mens_mail, no_mail, var.equal=TRUE)\n",
    "rct_ttest"
   ]
  },
  {
   "cell_type": "markdown",
   "metadata": {},
   "source": [
    "## バイアスのあるデータによる効果の検証\n",
    "\n",
    "メール配信に購買傾向が一定以上あるという条件をつける。"
   ]
  },
  {
   "cell_type": "markdown",
   "metadata": {},
   "source": [
    "### データの準備\n",
    "\n",
    "購買傾向が一定以下のデータをランダムに5割削除する。"
   ]
  },
  {
   "cell_type": "code",
   "execution_count": 9,
   "metadata": {},
   "outputs": [],
   "source": [
    "set.seed(1)\n",
    "\n",
    "obs_rate_c <- 0.5\n",
    "obs_rate_t <- 0.5"
   ]
  },
  {
   "cell_type": "code",
   "execution_count": 10,
   "metadata": {},
   "outputs": [],
   "source": [
    "biased_data <- male_df %>%\n",
    "    mutate(obs_rate_c = if_else(\n",
    "        (history > 300) | (recency < 6) | (channel == \"Multichannel\"), obs_rate_c, 1),\n",
    "           obs_rate_t = if_else(\n",
    "        (history > 300) | (recency < 6) | (channel == \"Multichannel\"), 1, obs_rate_t),\n",
    "           random_number = runif(n = NROW(male_df))\n",
    "          ) %>%\n",
    "    filter((treatment == 0 & random_number < obs_rate_c) | (treatment == 1 & random_number < obs_rate_t))"
   ]
  },
  {
   "cell_type": "markdown",
   "metadata": {},
   "source": [
    "これによりメールの配信されていないグループでは昨年の購入額が300より高い、最後の購入が3より小さい、接触チャネルが複数ある、のいずれかに該当するデータをランダムに半分削除している。\n",
    "逆にメールの配信されているグループでは逆に上の条件のいずれにも該当しないデータをランダムに半分削除している。"
   ]
  },
  {
   "cell_type": "markdown",
   "metadata": {},
   "source": [
    "### データの集計"
   ]
  },
  {
   "cell_type": "code",
   "execution_count": 11,
   "metadata": {},
   "outputs": [
    {
     "data": {
      "text/html": [
       "<table>\n",
       "<thead><tr><th scope=col>treatment</th><th scope=col>conversion_rate</th><th scope=col>spend_mean</th><th scope=col>count</th></tr></thead>\n",
       "<tbody>\n",
       "\t<tr><td>0          </td><td>0.004977838</td><td>0.5483062  </td><td>14665      </td></tr>\n",
       "\t<tr><td>1          </td><td>0.013431794</td><td>1.5277526  </td><td>17198      </td></tr>\n",
       "</tbody>\n",
       "</table>\n"
      ],
      "text/latex": [
       "\\begin{tabular}{r|llll}\n",
       " treatment & conversion\\_rate & spend\\_mean & count\\\\\n",
       "\\hline\n",
       "\t 0           & 0.004977838 & 0.5483062   & 14665      \\\\\n",
       "\t 1           & 0.013431794 & 1.5277526   & 17198      \\\\\n",
       "\\end{tabular}\n"
      ],
      "text/markdown": [
       "\n",
       "treatment | conversion_rate | spend_mean | count | \n",
       "|---|---|\n",
       "| 0           | 0.004977838 | 0.5483062   | 14665       | \n",
       "| 1           | 0.013431794 | 1.5277526   | 17198       | \n",
       "\n",
       "\n"
      ],
      "text/plain": [
       "  treatment conversion_rate spend_mean count\n",
       "1 0         0.004977838     0.5483062  14665\n",
       "2 1         0.013431794     1.5277526  17198"
      ]
     },
     "metadata": {},
     "output_type": "display_data"
    }
   ],
   "source": [
    "summary_by_segment_biased <- biased_data %>%\n",
    "    group_by(treatment) %>%\n",
    "    summarise(conversion_rate = mean(conversion),\n",
    "              spend_mean = mean(spend),\n",
    "              count = n())\n",
    "summary_by_segment_biased"
   ]
  },
  {
   "cell_type": "markdown",
   "metadata": {},
   "source": [
    "### 有意差検定"
   ]
  },
  {
   "cell_type": "code",
   "execution_count": 13,
   "metadata": {},
   "outputs": [
    {
     "data": {
      "text/plain": [
       "\n",
       "\tTwo Sample t-test\n",
       "\n",
       "data:  mens_mail_biased and no_mail_biased\n",
       "t = 5.6708, df = 31861, p-value = 1.433e-08\n",
       "alternative hypothesis: true difference in means is not equal to 0\n",
       "95 percent confidence interval:\n",
       " 0.6409145 1.3179784\n",
       "sample estimates:\n",
       "mean of x mean of y \n",
       "1.5277526 0.5483062 \n"
      ]
     },
     "metadata": {},
     "output_type": "display_data"
    }
   ],
   "source": [
    "mens_mail_biased <- biased_data %>%\n",
    "    filter(treatment == 1) %>%\n",
    "    pull(spend)\n",
    "\n",
    "no_mail_biased <- biased_data %>%\n",
    "    filter(treatment == 0) %>%\n",
    "    pull(spend)\n",
    "\n",
    "ttest_biased <- t.test(mens_mail_biased, no_mail_biased, var.equal=TRUE)\n",
    "ttest_biased"
   ]
  },
  {
   "cell_type": "markdown",
   "metadata": {},
   "source": [
    "意図的にバイアスを発生させたことにより購買額の差が大きくなっている。また有意差検定のp値もより小さい値になっており効果が過剰に評価されてしまっている。"
   ]
  },
  {
   "cell_type": "code",
   "execution_count": null,
   "metadata": {},
   "outputs": [],
   "source": []
  }
 ],
 "metadata": {
  "kernelspec": {
   "display_name": "R",
   "language": "R",
   "name": "ir"
  },
  "language_info": {
   "codemirror_mode": "r",
   "file_extension": ".r",
   "mimetype": "text/x-r-source",
   "name": "R",
   "pygments_lexer": "r",
   "version": "3.5.1"
  },
  "nteract": {
   "version": "nteract-on-jupyter@2.1.3"
  }
 },
 "nbformat": 4,
 "nbformat_minor": 4
}
